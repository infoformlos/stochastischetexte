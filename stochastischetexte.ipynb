{
 "cells": [
  {
   "cell_type": "code",
   "execution_count": null,
   "id": "cfa707fc",
   "metadata": {},
   "outputs": [],
   "source": [
    "from random import choice\n",
    "\n",
    "# This are the original words used by Theo Lutz in his version from 1959. They are taken from Kafka's \"Das Schloss\".\n",
    "# Lutz wanted full stops to be chosen with a probability of 62,5% and every other conjunction to be used with a \n",
    "# probability of 12,5% which is why full stops can be chosen in the script in five of eight cases.\n",
    "\n",
    "subjekte = ['GRAF', 'FREMDER', 'BLICK', 'KIRCHE', 'SCHLOSS', 'BILD', 'AUGE', 'DORF', 'TURM', 'BAUER', 'WEG', 'GAST', 'TAG', 'HAUS', 'TISCH', 'KNECHT']\n",
    "prädikate = ['OFFEN', 'STUMM', 'STARK', 'GUT', 'ENG', 'NAH', 'NEU', 'STILL', 'WEIT', 'TIEF', 'SPÄT', 'DUNKEL', 'FREI', 'GROß', 'ALT', 'WÜTEND']\n",
    "konjunktionen = [' UND ', ' ODER ', ' SO GILT ', '. ', '. ', '. ', '. ', '. ']\n",
    "operatoren = ['EIN', 'JEDER', 'KEIN', 'NICHT JEDER']\n",
    "\n",
    "# This is where this script deviates from Nick Montfort's version as it introduces corrections for german flexion \n",
    "# with a dictionary and list comprehension.\n",
    "\n",
    "def rumpfsatz():\n",
    "    auswahl = choice(operatoren) + ' ' + choice(subjekte)      \n",
    "    lexikon = {\n",
    "        \n",
    "            'EIN KIRCHE': 'EINE KIRCHE',\n",
    "            'KEIN KIRCHE': 'KEINE KIRCHE',\n",
    "            'JEDER KIRCHE': 'JEDE KIRCHE',\n",
    "            'JEDER SCHLOSS': 'JEDES SCHLOSS',\n",
    "            'JEDER BILD': 'JEDES BILD',\n",
    "            'JEDER AUGE': 'JEDES AUGE',\n",
    "            'JEDER DORF': 'JEDES DORF',\n",
    "            'JEDER HAUS': 'JEDES HAUS',\n",
    "            'NICHT JEDER_KIRCHE': 'NICHT JEDE KIRCHE',\n",
    "            'NICHT JEDER SCHLOSS': 'NICHT JEDES SCHLOSS',\n",
    "            'NICHT JEDER BILD': 'NICHT JEDES BILD',\n",
    "            'NICHT JEDER AUGE': 'NICHT JEDES AUGE',\n",
    "            'NICHT JEDER DORF': 'NICHT JEDES DORF',\n",
    "            'NICHT JEDER HAUS': 'NICHT JEDES HAUS'\n",
    "        \n",
    "            }\n",
    "\n",
    "    korrektur = ' '.join([lexikon.get(x, x) for x in auswahl.split('_')])\n",
    "    korrigierter_satz = korrektur.split()\n",
    "    return(' '.join(korrigierter_satz) + \" IST\")         \n",
    "\n",
    "# the script generates 71 lines as this was the case with Lutz' first print out of the program (archived @Literaturarchiv Marbach)\n",
    "\n",
    "for i in range(71):\n",
    "    print('')\n",
    "    print(rumpfsatz() + ' ' + choice(prädikate) + choice(konjunktionen) + rumpfsatz() + ' ' + choice(prädikate) + '.')\n",
    "    print('')"
   ]
  }
 ],
 "metadata": {
  "kernelspec": {
   "display_name": "Python 3 (ipykernel)",
   "language": "python",
   "name": "python3"
  },
  "language_info": {
   "codemirror_mode": {
    "name": "ipython",
    "version": 3
   },
   "file_extension": ".py",
   "mimetype": "text/x-python",
   "name": "python",
   "nbconvert_exporter": "python",
   "pygments_lexer": "ipython3",
   "version": "3.9.7"
  }
 },
 "nbformat": 4,
 "nbformat_minor": 5
}
