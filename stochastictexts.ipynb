{
 "cells": [
  {
   "cell_type": "code",
   "execution_count": null,
   "id": "395e17b6",
   "metadata": {},
   "outputs": [],
   "source": [
    "from random import choice\n",
    "\n",
    "subjekte = ['GRAF', 'FREMDER', 'BLICK', 'KIRCHE', 'SCHLOSS', 'BILD', 'AUGE', 'DORF', 'TURM', 'BAUER', 'WEG', 'GAST', 'TAG', 'HAUS', 'TISCH', 'KNECHT']\n",
    "prädikate = ['OFFEN', 'STUMM', 'STARK', 'GUT', 'ENG', 'NAH', 'NEU', 'STILL', 'WEIT', 'TIEF', 'SPÄT', 'DUNKEL', 'FREI', 'GROß', 'ALT', 'WÜTEND']\n",
    "konjunktionen = [' UND ', ' ODER ', ' SO GILT ', '. ', '. ', '. ', '. ', '. ']\n",
    "operatoren = ['EIN', 'JEDER', 'KEIN', 'NICHT JEDER']\n",
    "\n",
    "LEXIKON = {\n",
    "    'EIN': {\n",
    "        'KIRCHE': 'EINE KIRCHE',\n",
    "    },\n",
    "    'JEDER': {\n",
    "        'KIRCHE': 'JEDE KIRCHE',\n",
    "        'SCHLOSS': 'JEDES SCHLOSS',\n",
    "        'BILD': 'JEDES BILD',\n",
    "        'AUGE': 'JEDES AUGE',\n",
    "        'DORF': 'JEDES DORF',\n",
    "        'HAUS': 'JEDES HAUS',\n",
    "    },\n",
    "    'NICHT JEDER': {\n",
    "        'KIRCHE': 'NICHT JEDE KIRCHE',\n",
    "        'SCHLOSS': 'NICHT JEDES SCHLOSS',\n",
    "        'BILD': 'NICHT JEDES BILD',\n",
    "        'AUGE': 'NICHT JEDES AUGE',\n",
    "        'DORF': 'NICHT JEDES DORF',\n",
    "        'HAUS': 'NICHT JEDES HAUS',\n",
    "    }\n",
    "}\n",
    "\n",
    "def rumpfsatz():\n",
    "    operator = choice(operatoren)\n",
    "    subjekt = choice(subjekte)\n",
    "    auswahl = f\"{operator} {subjekt}\"\n",
    "    auswahl = LEXIKON.get(operator, {}).get(subjekt, auswahl)\n",
    "    return f\"{auswahl} IST\"\n",
    "\n",
    "for i in range(71):\n",
    "    print(f\"\\n{rumpfsatz()} {choice(prädikate)}{choice(konjunktionen)}{rumpfsatz()} {choice(prädikate)}.\\n\")"
   ]
  }
 ],
 "metadata": {
  "kernelspec": {
   "display_name": "Python 3 (ipykernel)",
   "language": "python",
   "name": "python3"
  },
  "language_info": {
   "codemirror_mode": {
    "name": "ipython",
    "version": 3
   },
   "file_extension": ".py",
   "mimetype": "text/x-python",
   "name": "python",
   "nbconvert_exporter": "python",
   "pygments_lexer": "ipython3",
   "version": "3.9.7"
  }
 },
 "nbformat": 4,
 "nbformat_minor": 5
}
